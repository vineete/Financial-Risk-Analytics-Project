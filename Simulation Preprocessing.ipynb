{
 "cells": [
  {
   "cell_type": "code",
   "execution_count": null,
   "metadata": {},
   "outputs": [],
   "source": [
    "import numpy as np\n",
    "import pandas as pd\n",
    "\n",
    "from sklearn.preprocessing import LabelEncoder\n",
    "from sklearn.preprocessing import StandardScaler"
   ]
  },
  {
   "cell_type": "code",
   "execution_count": null,
   "metadata": {},
   "outputs": [],
   "source": [
    "data = pd.read_csv(\"pre2007_500pts.csv\")\n",
    "print(data.head())"
   ]
  },
  {
   "cell_type": "code",
   "execution_count": null,
   "metadata": {},
   "outputs": [],
   "source": [
    "print(data.columns)"
   ]
  },
  {
   "cell_type": "code",
   "execution_count": null,
   "metadata": {},
   "outputs": [],
   "source": [
    "selected_columns = [\"BorrZip\",\"CDC_Name\",\"CDC_Zip\",\"LoanSum\",\"TermInMonths\",\"BusinessType\", 'subpgmdesc',\n",
    "       'NaicsCode','unemp_comp', 'biz_net_income', 'adj_gross_income',\n",
    "       'net_cap_gain', 'total_tax_liab', '2018-2010', '2010-2000',\n",
    "       '2000-1990',\"P/E_t\",\"unemp_t\",\"interest_rate_t\",\"GDPchange_t\",\"T-t0(years)\",\"value\"]\n",
    "col_indexes = data[\"LoanNum\"]\n",
    "data_selected = data[selected_columns]\n",
    "print(data_selected.head())"
   ]
  },
  {
   "cell_type": "code",
   "execution_count": null,
   "metadata": {},
   "outputs": [],
   "source": [
    "for col in data_selected.columns:\n",
    "    if data_selected[col].isna().sum() > 0:\n",
    "        print(\"column \", col, \" has \", data_selected[col].isna().sum(), \" NA values\") "
   ]
  },
  {
   "cell_type": "code",
   "execution_count": null,
   "metadata": {},
   "outputs": [],
   "source": [
    "data_selected[\"CDC_Zip\"] = data_selected[\"CDC_Zip\"].fillna(-1)\n",
    "data_selected[\"BusinessType\"] = data_selected[\"BusinessType\"].fillna(\"Unknown\") \n",
    "data_selected[\"NaicsCode\"] = data_selected[\"NaicsCode\"].fillna(-1)"
   ]
  },
  {
   "cell_type": "code",
   "execution_count": null,
   "metadata": {},
   "outputs": [],
   "source": [
    "count = 0\n",
    "for col in data_selected.columns:\n",
    "    if data_selected[col].isna().sum() > 0:\n",
    "        count += 1\n",
    "        print(\"column \", col, \" has \", data_selected[col].isna().sum(), \" NA values\") \n",
    "if count == 0:\n",
    "    print(\"All good!\")"
   ]
  },
  {
   "cell_type": "code",
   "execution_count": null,
   "metadata": {},
   "outputs": [],
   "source": [
    "print(data_selected.head())\n",
    "print(data_selected.columns)"
   ]
  },
  {
   "cell_type": "code",
   "execution_count": null,
   "metadata": {},
   "outputs": [],
   "source": [
    "le1 = LabelEncoder()\n",
    "data_selected[\"CDC_Name\"] = le1.fit_transform(data_selected[\"CDC_Name\"])\n",
    "\n",
    "le2 = LabelEncoder()\n",
    "data_selected[\"BusinessType\"] = le2.fit_transform(data_selected[\"BusinessType\"])\n",
    "\n",
    "le3 = LabelEncoder()\n",
    "data_selected[\"subpgmdesc\"] = le3.fit_transform(data_selected[\"subpgmdesc\"])\n",
    "\n",
    "\n",
    "le5 = LabelEncoder()\n",
    "data_selected[\"BorrZip\"] = le5.fit_transform(data_selected[\"BorrZip\"])\n",
    "\n",
    "le6 = LabelEncoder()\n",
    "data_selected[\"CDC_Zip\"] = le6.fit_transform(data_selected[\"CDC_Zip\"])\n",
    "\n",
    "le7 = LabelEncoder()\n",
    "data_selected[\"NaicsCode\"] = le7.fit_transform(data_selected[\"NaicsCode\"])"
   ]
  },
  {
   "cell_type": "code",
   "execution_count": null,
   "metadata": {},
   "outputs": [],
   "source": [
    "#col_list = list(data_selected.columns)\n",
    "#for col in col_list:\n",
    " #   le = StandardSc()\n",
    "#    data_selected[col] = le.fit_transform(data_selected[col])\n",
    "#le1 = LabelEncoder()\n",
    "#data_selected = le1.fit_transform(data_selected)\n",
    "vals = data_selected[\"value\"]\n",
    "times = data_selected[\"T-t0(years)\"]\n",
    "cols = set(data_selected.columns)\n",
    "cols.remove(\"value\")\n",
    "cols.remove(\"T-t0(years)\")\n",
    "X = data_selected[list(cols)]\n",
    "col = X.columns\n",
    "sc = StandardScaler()\n",
    "data_selected = pd.DataFrame(sc.fit_transform(X),columns = col)\n",
    "data_selected[\"T-t0(years)\"] = times\n",
    "data_selected[\"value\"] = vals"
   ]
  },
  {
   "cell_type": "code",
   "execution_count": null,
   "metadata": {},
   "outputs": [],
   "source": [
    "data_selected[\"LoanNum\"] = col_indexes"
   ]
  },
  {
   "cell_type": "code",
   "execution_count": null,
   "metadata": {},
   "outputs": [],
   "source": [
    "print(data_selected.head())"
   ]
  },
  {
   "cell_type": "code",
   "execution_count": null,
   "metadata": {},
   "outputs": [],
   "source": [
    "data_selected.to_csv(\"prob_file.csv\")"
   ]
  },
  {
   "cell_type": "code",
   "execution_count": null,
   "metadata": {},
   "outputs": [],
   "source": []
  }
 ],
 "metadata": {
  "kernelspec": {
   "display_name": "Python 3",
   "language": "python",
   "name": "python3"
  },
  "language_info": {
   "codemirror_mode": {
    "name": "ipython",
    "version": 3
   },
   "file_extension": ".py",
   "mimetype": "text/x-python",
   "name": "python",
   "nbconvert_exporter": "python",
   "pygments_lexer": "ipython3",
   "version": "3.6.4"
  }
 },
 "nbformat": 4,
 "nbformat_minor": 2
}
